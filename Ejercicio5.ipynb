{
  "nbformat": 4,
  "nbformat_minor": 0,
  "metadata": {
    "colab": {
      "provenance": [],
      "authorship_tag": "ABX9TyMbDQGrOwTGxdsP7XLX/FUu",
      "include_colab_link": true
    },
    "kernelspec": {
      "name": "python3",
      "display_name": "Python 3"
    },
    "language_info": {
      "name": "python"
    }
  },
  "cells": [
    {
      "cell_type": "markdown",
      "metadata": {
        "id": "view-in-github",
        "colab_type": "text"
      },
      "source": [
        "<a href=\"https://colab.research.google.com/github/EmilioNet2/Optativa_profesionalizante_I/blob/main/Ejercicio5.ipynb\" target=\"_parent\"><img src=\"https://colab.research.google.com/assets/colab-badge.svg\" alt=\"Open In Colab\"/></a>"
      ]
    },
    {
      "cell_type": "code",
      "execution_count": 1,
      "metadata": {
        "id": "XwihYROxvZNy"
      },
      "outputs": [],
      "source": [
        "import pandas as pd"
      ]
    },
    {
      "cell_type": "code",
      "source": [
        "df = pd.DataFrame({'Nombre': ['Ana', 'Juan', 'Maria', 'Carlos', 'Sofia'],\n",
        "                   'Edad': [25, 30, 22, 28, 35],\n",
        "                   'Ciudad': ['Madrid', 'Barcelona', 'Madrid', 'Valencia', 'Barcelona'],\n",
        "                   'Puntuacion': [85, 92, 78, 95, 88]\n",
        "                   })\n",
        "\n",
        "print(\"DataFrame Original:\")\n",
        "print(pd)"
      ],
      "metadata": {
        "colab": {
          "base_uri": "https://localhost:8080/"
        },
        "id": "uEXf4198vukg",
        "outputId": "17036e3a-5dc2-43a7-ca9b-bbe71c6b1c3d"
      },
      "execution_count": 4,
      "outputs": [
        {
          "output_type": "stream",
          "name": "stdout",
          "text": [
            "DataFrame Original:\n",
            "<module 'pandas' from '/usr/local/lib/python3.10/dist-packages/pandas/__init__.py'>\n"
          ]
        }
      ]
    },
    {
      "cell_type": "markdown",
      "source": [
        "Filtrado"
      ],
      "metadata": {
        "id": "ximKd3Gdw7U_"
      }
    },
    {
      "cell_type": "code",
      "source": [
        "Mayores_25 = df[df['Edad']> 25]\n",
        "print(\"\\nDataFrame mayores de 25\")\n",
        "print(Mayores_25)"
      ],
      "metadata": {
        "colab": {
          "base_uri": "https://localhost:8080/"
        },
        "id": "AMEcShTQw9a0",
        "outputId": "0ba3ca59-3e1b-4b36-85cd-b517833efb21"
      },
      "execution_count": 5,
      "outputs": [
        {
          "output_type": "stream",
          "name": "stdout",
          "text": [
            "\n",
            "DataFrame mayores de 25\n",
            "   Nombre  Edad     Ciudad  Puntuacion\n",
            "1    Juan    30  Barcelona          92\n",
            "3  Carlos    28   Valencia          95\n",
            "4   Sofia    35  Barcelona          88\n"
          ]
        }
      ]
    },
    {
      "cell_type": "markdown",
      "source": [
        "Agrupacion y agregacion"
      ],
      "metadata": {
        "id": "rVIxErUJxYUr"
      }
    },
    {
      "cell_type": "code",
      "source": [
        "resultado = df[df['Edad']> 25].groupby('Ciudad')['Puntuacion'].max()\n",
        "print(\"\\nMaxima puntuacion por ciudad para personas mayores de 25 años\")\n",
        "print(resultado)"
      ],
      "metadata": {
        "colab": {
          "base_uri": "https://localhost:8080/"
        },
        "id": "DsxONvvnxbjP",
        "outputId": "9c5d29e3-f24b-4e4d-de6f-73497745c692"
      },
      "execution_count": 7,
      "outputs": [
        {
          "output_type": "stream",
          "name": "stdout",
          "text": [
            "\n",
            "Maxima puntuacion por ciudad para personas mayores de 25 años\n",
            "Ciudad\n",
            "Barcelona    92\n",
            "Valencia     95\n",
            "Name: Puntuacion, dtype: int64\n"
          ]
        }
      ]
    }
  ]
}