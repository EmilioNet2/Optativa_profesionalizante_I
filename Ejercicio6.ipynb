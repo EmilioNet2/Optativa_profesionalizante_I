{
  "nbformat": 4,
  "nbformat_minor": 0,
  "metadata": {
    "colab": {
      "provenance": [],
      "authorship_tag": "ABX9TyMxNKdn+dXbKFbsU0BLsSEq",
      "include_colab_link": true
    },
    "kernelspec": {
      "name": "python3",
      "display_name": "Python 3"
    },
    "language_info": {
      "name": "python"
    }
  },
  "cells": [
    {
      "cell_type": "markdown",
      "metadata": {
        "id": "view-in-github",
        "colab_type": "text"
      },
      "source": [
        "<a href=\"https://colab.research.google.com/github/EmilioNet2/Optativa_profesionalizante_I/blob/main/Ejercicio6.ipynb\" target=\"_parent\"><img src=\"https://colab.research.google.com/assets/colab-badge.svg\" alt=\"Open In Colab\"/></a>"
      ]
    },
    {
      "cell_type": "markdown",
      "source": [
        "Ejercicio 6"
      ],
      "metadata": {
        "id": "-crWd5KVxm4E"
      }
    },
    {
      "cell_type": "markdown",
      "source": [
        "**Tipos de uniones (joins) en Python:**\n",
        "\n",
        "1. inner join:"
      ],
      "metadata": {
        "id": "JzKfK7wNxsz4"
      }
    },
    {
      "cell_type": "code",
      "source": [
        "import pandas as pd"
      ],
      "metadata": {
        "id": "SJG7rYhVyBvf"
      },
      "execution_count": 12,
      "outputs": []
    },
    {
      "cell_type": "code",
      "source": [
        "df1 = pd.DataFrame({\n",
        "    'ID': [1, 2, 3, 4],\n",
        "    'Nombre': ['Ana', 'Juan', 'Maria', 'Carlos'],\n",
        "    'Departamento': ['Ventas', 'IT', 'Marketing', 'RH']\n",
        "})\n",
        "\n",
        "df2= pd.DataFrame ({\n",
        "    'ID': [3, 4, 5, 6],\n",
        "    'Salario': [50000, 60000, 550000, 650000]\n",
        "})\n",
        "\n",
        "print(\"DataFrame 1:\")\n",
        "print(\"DataFrame 2:\")"
      ],
      "metadata": {
        "colab": {
          "base_uri": "https://localhost:8080/"
        },
        "id": "fglruxILyIBu",
        "outputId": "411fbb18-a986-45ee-a53a-c0aaa65c24ae"
      },
      "execution_count": 3,
      "outputs": [
        {
          "output_type": "stream",
          "name": "stdout",
          "text": [
            "DataFrame 1:\n",
            "DataFrame 2:\n"
          ]
        }
      ]
    },
    {
      "cell_type": "markdown",
      "source": [
        "Fusion Inner"
      ],
      "metadata": {
        "id": "ePiNekTHzUml"
      }
    },
    {
      "cell_type": "code",
      "source": [
        "inner_merge = pd.merge(df1, df2, on='ID', how='inner')\n",
        "print(\"\\nFusion inner:\")\n",
        "print(inner_merge)"
      ],
      "metadata": {
        "colab": {
          "base_uri": "https://localhost:8080/"
        },
        "id": "D25HxavtzXLq",
        "outputId": "8fa31ab4-70e3-4abb-ceb8-57c9fc083c8a"
      },
      "execution_count": 4,
      "outputs": [
        {
          "output_type": "stream",
          "name": "stdout",
          "text": [
            "\n",
            "Fusion inner:\n",
            "   ID  Nombre Departamento  Salario\n",
            "0   3   Maria    Marketing    50000\n",
            "1   4  Carlos           RH    60000\n"
          ]
        }
      ]
    },
    {
      "cell_type": "markdown",
      "source": [
        "Fusion outer"
      ],
      "metadata": {
        "id": "2Ki1Giy70aKA"
      }
    },
    {
      "cell_type": "code",
      "source": [
        "outer_merge = pd.merge(df1, df2, on='ID', how='outer')\n",
        "print(\"\\nFusion outer:\")\n",
        "print(outer_merge)"
      ],
      "metadata": {
        "colab": {
          "base_uri": "https://localhost:8080/"
        },
        "id": "pZWZbtrL0cez",
        "outputId": "09d7b1c9-a17f-41b4-a12a-c8524dbd4775"
      },
      "execution_count": 7,
      "outputs": [
        {
          "output_type": "stream",
          "name": "stdout",
          "text": [
            "\n",
            "Fusion outer:\n",
            "   ID  Nombre Departamento   Salario\n",
            "0   1     Ana       Ventas       NaN\n",
            "1   2    Juan           IT       NaN\n",
            "2   3   Maria    Marketing   50000.0\n",
            "3   4  Carlos           RH   60000.0\n",
            "4   5     NaN          NaN  550000.0\n",
            "5   6     NaN          NaN  650000.0\n"
          ]
        }
      ]
    },
    {
      "cell_type": "markdown",
      "source": [
        "Fusion Left"
      ],
      "metadata": {
        "id": "3uFLl6Si0zOo"
      }
    },
    {
      "cell_type": "code",
      "source": [
        "left_merge = pd.merge(df1, df2, on='ID', how='left')\n",
        "print(\"\\nFusion left:\")\n",
        "print(left_merge)"
      ],
      "metadata": {
        "colab": {
          "base_uri": "https://localhost:8080/"
        },
        "id": "2ZIXxUOQ01dY",
        "outputId": "20aa441e-0a73-43a4-959f-bb773c9b4b2f"
      },
      "execution_count": 8,
      "outputs": [
        {
          "output_type": "stream",
          "name": "stdout",
          "text": [
            "\n",
            "Fusion left:\n",
            "   ID  Nombre Departamento  Salario\n",
            "0   1     Ana       Ventas      NaN\n",
            "1   2    Juan           IT      NaN\n",
            "2   3   Maria    Marketing  50000.0\n",
            "3   4  Carlos           RH  60000.0\n"
          ]
        }
      ]
    },
    {
      "cell_type": "markdown",
      "source": [
        "Fusin Right\n"
      ],
      "metadata": {
        "id": "IUeLNgdN1TcG"
      }
    },
    {
      "cell_type": "code",
      "source": [
        "right_merge = pd.merge(df1, df2, on='ID', how='right')\n",
        "print(\"\\nFusion right:\")\n",
        "print(right_merge)"
      ],
      "metadata": {
        "colab": {
          "base_uri": "https://localhost:8080/"
        },
        "id": "Yy5J0Hjd1Vds",
        "outputId": "8f328546-0c72-42f4-e114-97a202f4a071"
      },
      "execution_count": 9,
      "outputs": [
        {
          "output_type": "stream",
          "name": "stdout",
          "text": [
            "\n",
            "Fusion right:\n",
            "   ID  Nombre Departamento  Salario\n",
            "0   3   Maria    Marketing    50000\n",
            "1   4  Carlos           RH    60000\n",
            "2   5     NaN          NaN   550000\n",
            "3   6     NaN          NaN   650000\n"
          ]
        }
      ]
    },
    {
      "cell_type": "markdown",
      "source": [
        "Concatenacion"
      ],
      "metadata": {
        "id": "4tNwOY2w1i1W"
      }
    },
    {
      "cell_type": "code",
      "source": [
        "df3 = pd.DataFrame({\n",
        "    'ID': [7, 8],\n",
        "    'Nombre': ['Sofia', 'Pedro'],\n",
        "    'Departamento': ['Finanzas', 'Ventas']\n",
        "})\n",
        "\n",
        "concatenated = pd.concat([df1, df3])\n",
        "print(\"\\nConcatenacion de DataFrames:\")\n",
        "print(concatenated)"
      ],
      "metadata": {
        "colab": {
          "base_uri": "https://localhost:8080/"
        },
        "id": "WSFy1lM41kyF",
        "outputId": "b3a69d96-4979-48a3-ae9a-afcbb8f22b69"
      },
      "execution_count": 13,
      "outputs": [
        {
          "output_type": "stream",
          "name": "stdout",
          "text": [
            "\n",
            "Concatenacion de DataFrames:\n",
            "   ID  Nombre Departamento\n",
            "0   1     Ana       Ventas\n",
            "1   2    Juan           IT\n",
            "2   3   Maria    Marketing\n",
            "3   4  Carlos           RH\n",
            "0   7   Sofia     Finanzas\n",
            "1   8   Pedro       Ventas\n"
          ]
        }
      ]
    }
  ]
}